{
 "cells": [
  {
   "cell_type": "code",
   "execution_count": 1,
   "id": "460561bb-7ec0-4b4f-98e5-e11b7b759209",
   "metadata": {},
   "outputs": [],
   "source": [
    "from triqs.gf import *\n",
    "from triqs.operators import *\n",
    "from triqs.operators.util.hamiltonians import h_int_kanamori, h_int_slater\n",
    "from triqs.operators.util import *\n",
    "from triqs.operators.util.hamiltonians import *\n",
    "\n",
    "from h5 import HDFArchive\n",
    "from triqs.atom_diag import *\n",
    "import numpy as np\n",
    "#import sympy as sp\n",
    "from itertools import product\n",
    "import matplotlib.pylab as plt"
   ]
  },
  {
   "cell_type": "code",
   "execution_count": 2,
   "id": "471546c1-b051-4910-b294-90bd24d67dea",
   "metadata": {},
   "outputs": [],
   "source": [
    "spin_names = ('up','dn')\n",
    "orb_names = [0, 1]\n",
    "fops = [(sn,on) for sn, on in product(spin_names,orb_names)]\n",
    "\n",
    "beta = 1e24\n",
    "target_occ = 2\n",
    "\n",
    "U = 5.0\n",
    "Ul = 2.5\n",
    "t = 1.0\n",
    "eps = 4.0\n",
    "\n",
    "\n",
    "def get_G_w(t, eps, U, Ul):\n",
    "    mu = 10.0\n",
    "\n",
    "    uijkl = np.zeros((2,2,2,2))\n",
    "    uijkl[0,0,0,0] = U\n",
    "    uijkl[0,1,0,1] = Ul\n",
    "    uijkl[1,0,1,0] = Ul\n",
    "    uijkl[1,1,1,1] = U\n",
    "\n",
    "    N_up = n('up',0) + n('up',1)\n",
    "    N_dn = n('dn',0) + n('dn',1)\n",
    "    N = N_up + N_dn\n",
    "    H = mu * N\n",
    "    \n",
    "    for s in spin_names:\n",
    "        for i in range(len(orb_names)):\n",
    "            H += -t * (c_dag(s, i)*c(s, (i+1)%len(orb_names)))\n",
    "\n",
    "\n",
    "    H += h_int_slater(spin_names, orb_names, uijkl, off_diag=True, complex=True)\n",
    "\n",
    "    for s in spin_names:\n",
    "        for o in orb_names:\n",
    "            H += eps*(n(s, o))\n",
    "            \n",
    "    step = 0.1\n",
    "    while True:\n",
    "\n",
    "        H += mu * N\n",
    "        ad = AtomDiagComplex(H, fops, n_min=target_occ-1, n_max=target_occ+1)\n",
    "        \n",
    "        dm = atomic_density_matrix(ad, beta)\n",
    "        \n",
    "        filling = trace_rho_op(dm, N, ad)\n",
    "\n",
    "        if abs(filling.real-target_occ) < 1.0e-6:\n",
    "            break\n",
    "        elif filling.real < target_occ:\n",
    "            H += -mu * N\n",
    "            mu+=-step\n",
    "        elif filling.real > target_occ:\n",
    "            H += -mu * N\n",
    "            mu+=step\n",
    "            \n",
    "    gf_struct = [('dn', len(orb_names)),('up', len(orb_names))]\n",
    "    \n",
    "    G_w = atomic_g_w(ad, beta, gf_struct, (-3, 12), 700, 0.1)\n",
    "    return G_w"
   ]
  },
  {
   "cell_type": "code",
   "execution_count": 4,
   "id": "17f141d5-1ed0-40c1-a535-0be2182aae47",
   "metadata": {},
   "outputs": [
    {
     "data": {
      "image/png": "[encoded data removed]",
      "text/plain": [
       "<Figure size 640x480 with 1 Axes>"
      ]
     },
     "metadata": {},
     "output_type": "display_data"
    }
   ],
   "source": [
    "\n",
    "plt.figure(1)\n",
    "plt.clf()\n",
    "plt.grid(True)\n",
    "\n",
    "\n",
    "G_w = get_G_w(1.0, 0.0, 2.0, 0.0)\n",
    "\n",
    "f = np.array(list(G_w['up'].mesh.values()))\n",
    "\n",
    "plt.plot(f, -np.imag(np.trace(G_w['up'].data[:,:,:], axis1=1, axis2=2)), linewidth = 1, label = \"Ul = {}\".format(Ul)) \n",
    "plt.legend()    \n",
    "plt.show()"
   ]
  },
  {
   "cell_type": "markdown",
   "id": "95a237be",
   "metadata": {},
   "source": [
    "We construct the Hubbard dimer Hamiltonian:\n",
    "\\begin{align}\n",
    "\\hat{H}=&\\ -t(\\hat{c}_{1,\\uparrow}^\\dagger \\hat{c}_{2,\\uparrow}+\\hat{c}_{2,\\uparrow}^\\dagger \\hat{c}_{1,\\uparrow}+\\hat{c}_{1,\\downarrow}^\\dagger \\hat{c}_{2,\\downarrow}+\\hat{c}_{2,\\downarrow}^\\dagger \\hat{c}_{1,\\downarrow}) + U(\\hat{c}_{1,\\uparrow}^\\dagger \\hat{c}_{1,\\uparrow}\\hat{c}_{1,\\downarrow}^\\dagger \\hat{c}_{1,\\downarrow}+\\hat{c}_{2,\\uparrow}^\\dagger \\hat{c}_{2,\\uparrow}\\hat{c}_{2,\\downarrow}^\\dagger \\hat{c}_{2,\\downarrow})\\\\\n",
    "&+ \\varepsilon_0(\\hat{c}_{1,\\uparrow}^\\dagger\\hat{c}_{1,\\uparrow}+\\hat{c}_{1,\\downarrow}^\\dagger\\hat{c}_{1,\\downarrow}+\\hat{c}_{2,\\uparrow}^\\dagger\\hat{c}_{2,\\uparrow}+\\hat{c}_{2,\\downarrow}^\\dagger\\hat{c}_{2,\\downarrow})\\notag\\\\\n",
    "&+\\ U_l(\\hat{c}_{1,\\uparrow}^\\dagger\\hat{c}_{1,\\uparrow}\\hat{c}_{2,\\uparrow}^\\dagger\\hat{c}_{2,\\uparrow}+\\hat{c}_{1,\\uparrow}^\\dagger\\hat{c}_{1,\\uparrow}\\hat{c}_{2,\\downarrow}^\\dagger\\hat{c}_{2,\\downarrow} + \\hat{c}_{1,\\downarrow}^\\dagger\\hat{c}_{1,\\downarrow}\\hat{c}_{2,\\uparrow}^\\dagger\\hat{c}_{2,\\uparrow}+\\hat{c}_{1,\\downarrow}^\\dagger\\hat{c}_{1,\\downarrow}\\hat{c}_{2,\\downarrow}^\\dagger\\hat{c}_{2,\\downarrow})\n",
    "\\end{align}\n",
    "Here $t$ is the hopping integral, $U$ the on-site coulomb term, $U_l$ the long-range coulomb term between sites and $\\varepsilon_0$ the orbital energy."
   ]
  },
  {
   "cell_type": "markdown",
   "id": "6922034c",
   "metadata": {},
   "source": [
    "What exactly is the atomic density matrix? Is it this?\n",
    "$$\\rho=\\dfrac{1}{Z}e^{-\\beta (H-\\mu N)}\\dfrac{1}{\\text{Tr}e^{-\\beta(H-\\mu N)}}e^{-\\beta (H-\\mu N)}$$\n",
    "And I then take it that function 'trace_rho_op' computes\n",
    "$$\\langle A\\rangle=\\text{Tr}(\\rho A)$$\n",
    "Such that for the filling we have:\n",
    "$$\\langle N\\rangle=\\text{Tr}(\\rho N)$$\n",
    "Though I don't know what we'd need 'ad' again as an argument, shouldn't all be contained in the density matrix"
   ]
  },
  {
   "cell_type": "markdown",
   "id": "13229557",
   "metadata": {},
   "source": [
    "And what are we actually plotting? I assume it's the spectal function but the spectral function is just imaginary part of the Green function (with a factor). So why are we taking a trace?"
   ]
  },
  {
   "cell_type": "markdown",
   "id": "6f7547d4",
   "metadata": {},
   "source": [
    "And assuming I've implemented the long-range coulomb term correctly, how do we interpret the results? It seems like for a stronger coulomb interaction that the two smaller peaks dissapear and the two larger ones move away from eachother. I take it we can conclude that this means those transitions become less and less likely while one transition becomes higher and higher in energy."
   ]
  },
  {
   "cell_type": "code",
   "execution_count": null,
   "id": "98f7a524",
   "metadata": {},
   "outputs": [],
   "source": []
  }
 ],
 "metadata": {
  "kernelspec": {
   "display_name": "Python 3 (ipykernel)",
   "language": "python",
   "name": "python3"
  },
  "language_info": {
   "codemirror_mode": {
    "name": "ipython",
    "version": 3
   },
   "file_extension": ".py",
   "mimetype": "text/x-python",
   "name": "python",
   "nbconvert_exporter": "python",
   "pygments_lexer": "ipython3",
   "version": "3.11.4"
  }
 },
 "nbformat": 4,
 "nbformat_minor": 5
}
