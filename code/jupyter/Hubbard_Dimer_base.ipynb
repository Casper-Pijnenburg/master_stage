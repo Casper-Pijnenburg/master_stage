{
 "cells": [
  {
   "cell_type": "code",
   "execution_count": 1,
   "id": "460561bb-7ec0-4b4f-98e5-e11b7b759209",
   "metadata": {},
   "outputs": [],
   "source": [
    "from triqs.gf import *\n",
    "from triqs.operators import *\n",
    "from triqs.operators.util.hamiltonians import h_int_kanamori, h_int_slater\n",
    "from triqs.operators.util import *\n",
    "from triqs.operators.util.hamiltonians import *\n",
    "\n",
    "from h5 import HDFArchive\n",
    "from triqs.atom_diag import *\n",
    "import numpy as np\n",
    "import sympy as sp\n",
    "from itertools import product\n",
    "import matplotlib.pylab as plt"
   ]
  },
  {
   "cell_type": "code",
   "execution_count": 2,
   "id": "471546c1-b051-4910-b294-90bd24d67dea",
   "metadata": {},
   "outputs": [],
   "source": [
    "# Definition of a 3-orbital atom\n",
    "spin_names = ('up','dn')\n",
    "orb_names = [0,1]\n",
    "beta = 1000\n",
    "target_occ = 2\n",
    "U = 20\n",
    "t = 1.0\n",
    "mu = 10.0\n",
    "\n",
    "uijkl = np.zeros((2,2,2,2))\n",
    "uijkl[0,0,0,0] = U\n",
    "uijkl[1,1,1,1] = U\n",
    "\n",
    "tij = np.zeros((2,2))\n",
    "tij[0,1] = t\n",
    "tij[1,0] = t\n",
    "\n",
    "# Set of fundamental operators\n",
    "fops = [(sn,on) for sn, on in product(spin_names,orb_names)]\n",
    "\n",
    "# Numbers of particles with spin up/down\n",
    "N_up = n('up',0) + n('up',1)\n",
    "N_dn = n('dn',0) + n('dn',1)\n",
    "N = N_up + N_dn\n",
    "\n",
    "# Add chemical potential\n",
    "H = 0 * (N_up + N_dn)\n",
    "\n",
    "# Add Coulomb\n",
    "H += h_int_slater(spin_names, orb_names, uijkl, off_diag=True, complex=True)\n",
    "\n",
    "# Add single partcle terms\n",
    "for s, o1, o2 in product(spin_names, orb_names, orb_names):\n",
    "    H += 0.5*(        tij[int(o1),int(o2)]  * c_dag(s,o1) * c(s,o2) + \n",
    "              np.conj(tij[int(o1),int(o2)]) * c_dag(s,o2) * c(s,o1))"
   ]
  },
  {
   "cell_type": "code",
   "execution_count": 3,
   "id": "b4def383-99a2-45bf-92b1-2b3a1c97f4f0",
   "metadata": {},
   "outputs": [
    {
     "name": "stdout",
     "output_type": "stream",
     "text": [
      "mu: -1.0 filling: (1.9999999999999973+0j)\n"
     ]
    }
   ],
   "source": [
    "step = 0.5\n",
    "while True:\n",
    "\n",
    "    H += mu * N\n",
    "    ad = AtomDiagComplex(H, fops, n_min=target_occ-1, n_max=target_occ+1)\n",
    "\n",
    "    beta = 1e5\n",
    "    dm = atomic_density_matrix(ad, beta)\n",
    "    filling = trace_rho_op(dm, N, ad)\n",
    "\n",
    "    if abs(filling.real-target_occ) < 1.0e-4:\n",
    "        break\n",
    "    elif filling.real < target_occ:\n",
    "        H += -mu * N\n",
    "        mu+=-step\n",
    "    elif filling.real > target_occ:\n",
    "        H += -mu * N\n",
    "        mu+=step    \n",
    "    \n",
    "print(\"mu:\", mu, \"filling:\", filling)"
   ]
  },
  {
   "cell_type": "code",
   "execution_count": 4,
   "id": "860bbe1a-f5e5-468b-a65e-5ccbb640e922",
   "metadata": {},
   "outputs": [],
   "source": [
    "?atomic_g_w"
   ]
  },
  {
   "cell_type": "code",
   "execution_count": 5,
   "id": "17f141d5-1ed0-40c1-a535-0be2182aae47",
   "metadata": {},
   "outputs": [
    {
     "data": {
      "text/plain": [
       "[<matplotlib.lines.Line2D at 0x7f1e48b6e190>]"
      ]
     },
     "execution_count": 5,
     "metadata": {},
     "output_type": "execute_result"
    },
    {
     "data": {
      "image/png": "[encoded data removed]",
      "text/plain": [
       "<Figure size 640x480 with 1 Axes>"
      ]
     },
     "metadata": {},
     "output_type": "display_data"
    }
   ],
   "source": [
    "gf_struct = [('dn', len(orb_names)),\n",
    "             ('up', len(orb_names))]\n",
    "\n",
    "G_w = atomic_g_w(ad, beta, gf_struct, (-7, 5), 400, 0.1)\n",
    "\n",
    "f = np.array(list(G_w['up'].mesh.values()))\n",
    "plt.figure(1)\n",
    "plt.clf()\n",
    "plt.grid(True)\n",
    "plt.plot(f, -np.imag(np.trace(G_w['up'].data[:,:,:], axis1=1, axis2=2))+\n",
    "            -np.imag(np.trace(G_w['dn'].data[:,:,:], axis1=1, axis2=2)) ) "
   ]
  },
  {
   "cell_type": "code",
   "execution_count": 6,
   "id": "f23939fe-b7a6-4d53-b3fd-f16b4c1e645c",
   "metadata": {},
   "outputs": [
    {
     "name": "stdout",
     "output_type": "stream",
     "text": [
      "state # 0\n",
      "energy = 0.0   S2 = 0.0   Sz = 0.0\n",
      "state = [[-0.07*|0101> + 0.704*|0110> + 0.704*|1001> - 0.07*|1010>]]\n",
      "[[ 0.5 -0.1  0.   0. ]\n",
      " [-0.1  0.5  0.   0. ]\n",
      " [ 0.   0.   0.5 -0.1]\n",
      " [ 0.   0.  -0.1  0.5]]\n",
      "\n",
      "state # 1\n",
      "energy = 0.2   S2 = 2.0   Sz = -0.0\n",
      "state = [[0.707*|0110> - 0.707*|1001>]]\n",
      "[[ 0.5 -0.   0.   0. ]\n",
      " [-0.   0.5  0.   0. ]\n",
      " [ 0.   0.   0.5  0. ]\n",
      " [ 0.   0.   0.   0.5]]\n",
      "\n",
      "state # 2\n",
      "energy = 20.2   S2 = 0.0   Sz = -0.0\n",
      "state = [[-0.707*|0101> + 0.707*|1010>]]\n",
      "[[ 0.5  0.   0.   0. ]\n",
      " [ 0.   0.5  0.   0. ]\n",
      " [ 0.   0.   0.5 -0. ]\n",
      " [ 0.   0.  -0.   0.5]]\n",
      "\n",
      "state # 3\n",
      "energy = 20.4   S2 = 0.0   Sz = 0.0\n",
      "state = [[0.704*|0101> + 0.07*|0110> + 0.07*|1001> + 0.704*|1010>]]\n",
      "[[0.5 0.1 0.  0. ]\n",
      " [0.1 0.5 0.  0. ]\n",
      " [0.  0.  0.5 0.1]\n",
      " [0.  0.  0.1 0.5]]\n",
      "\n",
      "state # 6\n",
      "energy = 0.2   S2 = 2.0   Sz = 1.0\n",
      "state = [[1.0*|0011>]]\n",
      "[[1. 0. 0. 0.]\n",
      " [0. 1. 0. 0.]\n",
      " [0. 0. 0. 0.]\n",
      " [0. 0. 0. 0.]]\n",
      "\n",
      "state # 9\n",
      "energy = 0.2   S2 = 2.0   Sz = -1.0\n",
      "state = [[1.0*|1100>]]\n",
      "[[0. 0. 0. 0.]\n",
      " [0. 0. 0. 0.]\n",
      " [0. 0. 1. 0.]\n",
      " [0. 0. 0. 1.]]\n",
      "\n"
     ]
    }
   ],
   "source": [
    "S2 = S2_op(spin_names, orb_names, off_diag=True)\n",
    "S2 = make_operator_real(S2)\n",
    "Sz = S_op('z', spin_names, orb_names, off_diag=True)\n",
    "Sz = make_operator_real(Sz)\n",
    "\n",
    "\n",
    "S2_states = quantum_number_eigenvalues(S2, ad)\n",
    "Sz_states = quantum_number_eigenvalues(Sz, ad)\n",
    "\n",
    "n_eig = 0\n",
    "n_orb = len(orb_names)\n",
    "n_spin = len(spin_names)\n",
    "for sub in range(0,ad.n_subspaces):\n",
    "    \n",
    "    subspace_fock_state=[]\n",
    "    for fs in ad.fock_states[sub]:\n",
    "        state =int(bin(int(fs))[2:])                \n",
    "        state_leng=n_orb*n_spin\n",
    "        fmt='{0:0'+str(state_leng)+'d}'\n",
    "        state_bin=\"|\"+fmt.format(state)+\">\"\n",
    "        state_bin_sym=sp.symbols(state_bin)\n",
    "        subspace_fock_state.append(state_bin_sym)\n",
    "\n",
    "    # convert to eigenstate \n",
    "    kp = sp.kronecker_product\n",
    "    u_mat=sp.Matrix(np.round(ad.unitary_matrices[sub],3).conj().T)\n",
    "    st_mat=sp.Matrix(subspace_fock_state)\n",
    "    eig_state=np.matrix(u_mat*st_mat)\n",
    "    \n",
    "    for ind in range(0,ad.get_subspace_dim(sub)):\n",
    "\n",
    "        # Get desired states in eigenvector basis\n",
    "        state_eig = np.zeros((int(ad.full_hilbert_space_dim)))\n",
    "        state_eig[n_eig]=1.0        \n",
    "\n",
    "        # Construct density matrix\n",
    "        den_mat=np.zeros((n_spin*n_orb,n_spin*n_orb))\n",
    "        for s1 in range(0,n_spin):\n",
    "            for s2 in range(0,n_spin):\n",
    "                for ii in range(0,n_orb):\n",
    "                    for jj in range(0,n_orb):\n",
    "\n",
    "                        den_op = c_dag(spin_names[s1],orb_names[ii]) * c(spin_names[s2],orb_names[jj])\n",
    "\n",
    "                        xx = ii + s1*n_orb\n",
    "                        yy = jj + s2*n_orb\n",
    "\n",
    "                        den_mat[xx,yy]=np.real(np.dot(state_eig, act(den_op, state_eig, ad)))\n",
    "                        \n",
    "        if(np.allclose(np.trace(den_mat), target_occ)):\n",
    "            print(\"state #\",n_eig )\n",
    "            print(\"energy =\", np.round(ad.energies[sub][ind], decimals=2), \"  S2 =\", np.round(S2_states[sub][ind], decimals=2), \"  Sz =\", np.round(Sz_states[sub][ind], decimals=2))\n",
    "            print(\"state =\", eig_state[ind])\n",
    "            print(np.round(den_mat, decimals=2))\n",
    "            print(\"\")\n",
    "        \n",
    "        n_eig += 1"
   ]
  },
  {
   "cell_type": "code",
   "execution_count": null,
   "id": "acc014cf-3a75-41fb-abbf-7efa03be6b3e",
   "metadata": {},
   "outputs": [],
   "source": []
  }
 ],
 "metadata": {
  "kernelspec": {
   "display_name": "Python 3 (ipykernel)",
   "language": "python",
   "name": "python3"
  },
  "language_info": {
   "codemirror_mode": {
    "name": "ipython",
    "version": 3
   },
   "file_extension": ".py",
   "mimetype": "text/x-python",
   "name": "python",
   "nbconvert_exporter": "python",
   "pygments_lexer": "ipython3",
   "version": "3.11.4"
  }
 },
 "nbformat": 4,
 "nbformat_minor": 5
}
