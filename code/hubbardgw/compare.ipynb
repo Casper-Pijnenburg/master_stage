{
 "cells": [
  {
   "cell_type": "code",
   "execution_count": 1,
   "id": "fa0d4b92-aa89-49d0-b264-5c801cae9101",
   "metadata": {
    "scrolled": true
   },
   "outputs": [
    {
     "name": "stdout",
     "output_type": "stream",
     "text": [
      "Warning: could not identify MPI environment!\n"
     ]
    },
    {
     "name": "stderr",
     "output_type": "stream",
     "text": [
      "Starting serial run at: 2023-11-07 11:45:58.021022\n"
     ]
    }
   ],
   "source": [
    "import numpy as np\n",
    "\n",
    "from triqs.gf import Gf, MeshImFreq, Idx\n",
    "from triqs.gf import inverse, iOmega_n\n",
    "from triqs.lattice.tight_binding import TBLattice\n",
    "\n",
    "\n",
    "from triqs_tprf.lattice import lattice_dyson_g0_wk\n",
    "from triqs_tprf.lattice import lattice_dyson_g_wk\n",
    "\n",
    "from triqs_tprf.lattice import fourier_wk_to_wr\n",
    "from triqs_tprf.lattice import chi_wr_from_chi_wk\n",
    "\n",
    "from triqs_tprf.gw_solver import GWSolver\n",
    "\n",
    "from hugoDimer import GWHubbardDimer\n",
    "from casperDimer import GWA\n",
    "\n",
    "\n",
    "# import sys\n",
    "# import os\n",
    "# sys.stdout = open(os.devnull, 'w')\n",
    "\n",
    "%matplotlib inline\n",
    "import matplotlib as mpl\n",
    "import matplotlib.pyplot as plt\n",
    "mpl.rcParams['figure.dpi'] = 100"
   ]
  },
  {
   "cell_type": "code",
   "execution_count": 2,
   "id": "435f6980-9025-4569-890f-133185156e7b",
   "metadata": {},
   "outputs": [],
   "source": [
    "def polarizationCheck(myPolarization, hugoPolarization):\n",
    "    np.testing.assert_array_almost_equal(hugoPolarization[:, Idx(0, 0, 0)][0,0,0,0].data, myPolarization['up'].data[:, 0, 0, 0, 0])\n",
    "    np.testing.assert_array_almost_equal(hugoPolarization[:, Idx(1, 0, 0)][0,0,0,0].data, myPolarization['up'].data[:, 1, 1, 0, 0])\n",
    "    \n",
    "def screenedPotentialCheck(myPotential, hugoPotential):\n",
    "    np.testing.assert_array_almost_equal(hugoPotential[:, Idx(0, 0, 0)][0,0,0,0].data, myPotential['up'].data[:, 0, 0, 0, 0])\n",
    "    np.testing.assert_array_almost_equal(hugoPotential[:, Idx(1, 0, 0)][0,0,0,0].data, myPotential['up'].data[:, 1, 1, 0, 0])\n",
    "\n",
    "def selfEnergyCheck(myEnergy, hugoEnergy):\n",
    "    np.testing.assert_array_almost_equal(hugoEnergy[:, Idx(0, 0, 0)][0,0].data, myEnergy['up'].data[:, 0, 0])\n",
    "    np.testing.assert_array_almost_equal(hugoEnergy[:, Idx(1, 0, 0)][0,0].data, myEnergy['up'].data[:, 0, 1])\n",
    "\n",
    "\n",
    "def compareFlags(hartree_flag, fock_flag, spin_flag):\n",
    "    beta = 20.0\n",
    "    U = 1.5\n",
    "    t = 1.0\n",
    "    nw = 1024\n",
    "    mu = 0.0\n",
    "    \n",
    "    hugo = GWHubbardDimer(\n",
    "        beta = beta, U = U, \n",
    "        t = t, nw = nw, maxiter = 1,\n",
    "        self_interaction = True, spinless = spin_flag,\n",
    "        hartree_flag = hartree_flag, fock_flag = fock_flag)\n",
    "    \n",
    "    casper = GWA(\n",
    "        beta = beta, U = U, \n",
    "        t = t, nw = nw, spinless = spin_flag, static_flag = False, \n",
    "        hartree_flag = hartree_flag, fock_flag = fock_flag)\n",
    "\n",
    "    print(\"Hartree flag: {}\".format(hartree_flag))\n",
    "    print(\"Fock flag: {}\".format(fock_flag)) \n",
    "\n",
    "    polarizationCheck(casper.P_w, hugo.P_wr)\n",
    "    print(\"Polarization check: Passed\")\n",
    "    \n",
    "    screenedPotentialCheck(casper.W_w, hugo.W_wr)\n",
    "    print(\"Screened Potential check: Passed\")\n",
    "\n",
    "    selfEnergyCheck(casper.sigma_w, hugo.sigma_wr)\n",
    "    print(\"Self-Energy check: Passed\")\n",
    "    "
   ]
  },
  {
   "cell_type": "code",
   "execution_count": 3,
   "id": "07ccad41-172b-4bef-a6e6-cf2e8310cc4f",
   "metadata": {},
   "outputs": [
    {
     "name": "stdout",
     "output_type": "stream",
     "text": [
      "\n",
      "╔╦╗╦═╗╦╔═╗ ╔═╗  \n",
      " ║ ╠╦╝║║═╬╗╚═╗  \n",
      " ╩ ╩╚═╩╚═╝╚╚═╝  GW\n",
      "TRIQS: GW solver\n",
      "\n",
      "beta 20.0\n",
      "N_w   2048\n",
      "N_k      2\n",
      "\n",
      "--> GWSolver.solve_iter\n",
      "spinless True\n",
      " Hartree False\n",
      "    Fock False\n",
      "      GW True\n",
      "\n",
      "\n",
      "Timing:                    incl.     excl.\n",
      "-------------------------------------------------\n",
      "Density matrix rho_k:      0.001     0.001   0.3% |\n",
      "Density matrix rho_r:      0.004     0.002   0.6% |\n",
      " Density matrix rho_k:     0.002     0.002   0.8% |\n",
      "Dyson equation:            0.003     0.003   1.1% |\n",
      "GW Sigma_dyn:              0.038     0.038  14.3% |-----|\n",
      "Interaction W_wk:          0.002     0.002   0.6% |\n",
      "Polarization P_wk:         0.028     0.028  10.3% |---|\n",
      "Susceptibiltiy chi_wk:     0.003     0.003   1.2% |\n",
      "Other:                     0.190     0.190  70.7% |---------------------------|\n",
      "-------------------------------------------------\n",
      "Total:                               0.269 100.0%\n",
      "\n",
      "--> GWSolver.calc_real_space\n",
      "Hartree flag: False\n",
      "Fock flag: False\n",
      "Polarization check: Passed\n",
      "Screened Potential check: Passed\n",
      "Self-Energy check: Passed\n"
     ]
    }
   ],
   "source": [
    "compareFlags(hartree_flag = False, fock_flag = False, spin_flag = True)"
   ]
  },
  {
   "cell_type": "code",
   "execution_count": 4,
   "id": "cec0ccd4-b4b6-49a4-a056-f9a5b2cb7a43",
   "metadata": {},
   "outputs": [
    {
     "name": "stdout",
     "output_type": "stream",
     "text": [
      "\n",
      "╔╦╗╦═╗╦╔═╗ ╔═╗  \n",
      " ║ ╠╦╝║║═╬╗╚═╗  \n",
      " ╩ ╩╚═╩╚═╝╚╚═╝  GW\n",
      "TRIQS: GW solver\n",
      "\n",
      "beta 20.0\n",
      "N_w   2048\n",
      "N_k      2\n",
      "\n",
      "--> GWSolver.solve_iter\n",
      "spinless True\n",
      " Hartree True\n",
      "    Fock False\n",
      "      GW True\n",
      "\n",
      "\n",
      "Timing:                    incl.     excl.\n",
      "-------------------------------------------------\n",
      "Density matrix rho_k:      0.001     0.001   0.3% |\n",
      "Density matrix rho_r:      0.003     0.001   0.6% |\n",
      " Density matrix rho_k:     0.002     0.002   0.7% |\n",
      "Dyson equation:            0.002     0.002   0.7% |\n",
      "GW Sigma_dyn:              0.037     0.037  14.1% |-----|\n",
      "Hartree Sigma_H:           0.001     0.001   0.3% |\n",
      "Interaction W_wk:          0.001     0.001   0.6% |\n",
      "Polarization P_wk:         0.026     0.026  10.0% |---|\n",
      "Susceptibiltiy chi_wk:     0.003     0.003   1.3% ||\n",
      "Other:                     0.190     0.190  71.5% |----------------------------|\n",
      "-------------------------------------------------\n",
      "Total:                               0.265 100.0%\n",
      "\n",
      "--> GWSolver.calc_real_space\n",
      "Hartree flag: True\n",
      "Fock flag: False\n",
      "Polarization check: Passed\n",
      "Screened Potential check: Passed\n",
      "Self-Energy check: Passed\n"
     ]
    }
   ],
   "source": [
    "compareFlags(hartree_flag = True, fock_flag = False, spin_flag = True)"
   ]
  },
  {
   "cell_type": "code",
   "execution_count": 5,
   "id": "d80a4083-0d90-4300-b339-451a34dece0c",
   "metadata": {},
   "outputs": [
    {
     "name": "stdout",
     "output_type": "stream",
     "text": [
      "\n",
      "╔╦╗╦═╗╦╔═╗ ╔═╗  \n",
      " ║ ╠╦╝║║═╬╗╚═╗  \n",
      " ╩ ╩╚═╩╚═╝╚╚═╝  GW\n",
      "TRIQS: GW solver\n",
      "\n",
      "beta 20.0\n",
      "N_w   2048\n",
      "N_k      2\n",
      "\n",
      "--> GWSolver.solve_iter\n",
      "spinless True\n",
      " Hartree False\n",
      "    Fock True\n",
      "      GW True\n",
      "\n",
      "\n",
      "Timing:                    incl.     excl.\n",
      "-------------------------------------------------\n",
      "Density matrix rho_k:      0.001     0.001   0.3% |\n",
      "Density matrix rho_r:      0.004     0.002   0.6% |\n",
      " Density matrix rho_k:     0.002     0.002   0.8% |\n",
      "Dyson equation:            0.002     0.002   0.7% |\n",
      "Fock Sigma_F:              0.001     0.001   0.4% |\n",
      "GW Sigma_dyn:              0.037     0.037  14.1% |-----|\n",
      "Interaction W_wk:          0.001     0.001   0.5% |\n",
      "Polarization P_wk:         0.027     0.027  10.3% |---|\n",
      "Susceptibiltiy chi_wk:     0.003     0.003   1.3% ||\n",
      "Other:                     0.189     0.189  71.1% |---------------------------|\n",
      "-------------------------------------------------\n",
      "Total:                               0.265 100.0%\n",
      "\n",
      "--> GWSolver.calc_real_space\n",
      "Hartree flag: False\n",
      "Fock flag: True\n",
      "Polarization check: Passed\n",
      "Screened Potential check: Passed\n",
      "Self-Energy check: Passed\n"
     ]
    }
   ],
   "source": [
    "compareFlags(hartree_flag = False, fock_flag = True, spin_flag = True)"
   ]
  },
  {
   "cell_type": "code",
   "execution_count": 6,
   "id": "d02696ac-d4ef-4302-9436-fce96240bf7a",
   "metadata": {},
   "outputs": [
    {
     "name": "stdout",
     "output_type": "stream",
     "text": [
      "\n",
      "╔╦╗╦═╗╦╔═╗ ╔═╗  \n",
      " ║ ╠╦╝║║═╬╗╚═╗  \n",
      " ╩ ╩╚═╩╚═╝╚╚═╝  GW\n",
      "TRIQS: GW solver\n",
      "\n",
      "beta 20.0\n",
      "N_w   2048\n",
      "N_k      2\n",
      "\n",
      "--> GWSolver.solve_iter\n",
      "spinless True\n",
      " Hartree True\n",
      "    Fock True\n",
      "      GW True\n",
      "\n",
      "\n",
      "Timing:                    incl.     excl.\n",
      "-------------------------------------------------\n",
      "Density matrix rho_k:      0.001     0.001   0.3% |\n",
      "Density matrix rho_r:      0.004     0.002   0.6% |\n",
      " Density matrix rho_k:     0.002     0.002   0.8% |\n",
      "Dyson equation:            0.002     0.002   0.7% |\n",
      "Fock Sigma_F:              0.001     0.001   0.3% |\n",
      "GW Sigma_dyn:              0.037     0.037  13.9% |-----|\n",
      "Hartree Sigma_H:           0.001     0.001   0.4% |\n",
      "Interaction W_wk:          0.001     0.001   0.5% |\n",
      "Polarization P_wk:         0.027     0.027  10.2% |---|\n",
      "Susceptibiltiy chi_wk:     0.003     0.003   1.3% ||\n",
      "Other:                     0.189     0.189  71.0% |---------------------------|\n",
      "-------------------------------------------------\n",
      "Total:                               0.267 100.0%\n",
      "\n",
      "--> GWSolver.calc_real_space\n",
      "Hartree flag: True\n",
      "Fock flag: True\n",
      "Polarization check: Passed\n",
      "Screened Potential check: Passed\n",
      "Self-Energy check: Passed\n"
     ]
    }
   ],
   "source": [
    "compareFlags(hartree_flag = True, fock_flag = True, spin_flag = True)"
   ]
  },
  {
   "cell_type": "code",
   "execution_count": 7,
   "id": "c3ec3ea9-2697-4ce8-8369-a9c706ac67b4",
   "metadata": {},
   "outputs": [
    {
     "name": "stdout",
     "output_type": "stream",
     "text": [
      "\n",
      "╔╦╗╦═╗╦╔═╗ ╔═╗  \n",
      " ║ ╠╦╝║║═╬╗╚═╗  \n",
      " ╩ ╩╚═╩╚═╝╚╚═╝  GW\n",
      "TRIQS: GW solver\n",
      "\n",
      "beta 20.0\n",
      "N_w   2048\n",
      "N_k      2\n",
      "\n",
      "--> GWSolver.solve_iter\n",
      "spinless False\n",
      " Hartree True\n",
      "    Fock False\n",
      "      GW True\n",
      "\n",
      "\n",
      "Timing:                    incl.     excl.\n",
      "-------------------------------------------------\n",
      "Density matrix rho_k:      0.002     0.002   0.5% |\n",
      "Density matrix rho_r:      0.005     0.002   0.5% |\n",
      " Density matrix rho_k:     0.004     0.004   1.0% |\n",
      "Dyson equation:            0.003     0.003   0.8% |\n",
      "GW Sigma_dyn:              0.067     0.067  19.6% |-------|\n",
      "Hartree Sigma_H:           0.001     0.001   0.2% |\n",
      "Interaction W_wk:          0.014     0.014   3.9% |-|\n",
      "Polarization P_wk:         0.052     0.052  15.1% |-----|\n",
      "Susceptibiltiy chi_wk:     0.007     0.007   1.9% ||\n",
      "Other:                     0.194     0.194  56.5% |----------------------|\n",
      "-------------------------------------------------\n",
      "Total:                               0.344 100.0%\n",
      "\n",
      "--> GWSolver.calc_real_space\n",
      "Hartree flag: True\n",
      "Fock flag: False\n",
      "Polarization check: Passed\n",
      "Screened Potential check: Passed\n",
      "Self-Energy check: Passed\n"
     ]
    }
   ],
   "source": [
    "compareFlags(hartree_flag = True, fock_flag = False, spin_flag = False)"
   ]
  },
  {
   "cell_type": "code",
   "execution_count": 8,
   "id": "ac2edc2c-53b4-4496-9b7e-7150d21a8fd0",
   "metadata": {},
   "outputs": [
    {
     "name": "stdout",
     "output_type": "stream",
     "text": [
      "\n",
      "╔╦╗╦═╗╦╔═╗ ╔═╗  \n",
      " ║ ╠╦╝║║═╬╗╚═╗  \n",
      " ╩ ╩╚═╩╚═╝╚╚═╝  GW\n",
      "TRIQS: GW solver\n",
      "\n",
      "beta 20.0\n",
      "N_w   2048\n",
      "N_k      2\n",
      "\n",
      "--> GWSolver.solve_iter\n",
      "spinless False\n",
      " Hartree False\n",
      "    Fock True\n",
      "      GW True\n",
      "\n",
      "\n",
      "Timing:                    incl.     excl.\n",
      "-------------------------------------------------\n",
      "Density matrix rho_k:      0.002     0.002   0.5% |\n",
      "Density matrix rho_r:      0.005     0.002   0.5% |\n",
      " Density matrix rho_k:     0.004     0.004   1.0% |\n",
      "Dyson equation:            0.003     0.003   0.9% |\n",
      "Fock Sigma_F:              0.001     0.001   0.2% |\n",
      "GW Sigma_dyn:              0.067     0.067  19.3% |-------|\n",
      "Interaction W_wk:          0.014     0.014   4.0% |-|\n",
      "Polarization P_wk:         0.052     0.052  15.0% |-----|\n",
      "Susceptibiltiy chi_wk:     0.007     0.007   1.9% ||\n",
      "Other:                     0.196     0.196  56.8% |----------------------|\n",
      "-------------------------------------------------\n",
      "Total:                               0.346 100.0%\n",
      "\n",
      "--> GWSolver.calc_real_space\n",
      "Hartree flag: False\n",
      "Fock flag: True\n",
      "Polarization check: Passed\n",
      "Screened Potential check: Passed\n",
      "Self-Energy check: Passed\n"
     ]
    }
   ],
   "source": [
    "compareFlags(hartree_flag = False, fock_flag = True, spin_flag = False)"
   ]
  },
  {
   "cell_type": "code",
   "execution_count": 9,
   "id": "e1e8f63b-edaf-4685-9594-888e0237fe6e",
   "metadata": {},
   "outputs": [
    {
     "name": "stdout",
     "output_type": "stream",
     "text": [
      "\n",
      "╔╦╗╦═╗╦╔═╗ ╔═╗  \n",
      " ║ ╠╦╝║║═╬╗╚═╗  \n",
      " ╩ ╩╚═╩╚═╝╚╚═╝  GW\n",
      "TRIQS: GW solver\n",
      "\n",
      "beta 20.0\n",
      "N_w   2048\n",
      "N_k      2\n",
      "\n",
      "--> GWSolver.solve_iter\n",
      "spinless False\n",
      " Hartree True\n",
      "    Fock True\n",
      "      GW True\n",
      "\n",
      "\n",
      "Timing:                    incl.     excl.\n",
      "-------------------------------------------------\n",
      "Density matrix rho_k:      0.002     0.002   0.5% |\n",
      "Density matrix rho_r:      0.005     0.002   0.5% |\n",
      " Density matrix rho_k:     0.004     0.004   1.0% |\n",
      "Dyson equation:            0.003     0.003   0.8% |\n",
      "Fock Sigma_F:              0.001     0.001   0.2% |\n",
      "GW Sigma_dyn:              0.067     0.067  19.4% |-------|\n",
      "Hartree Sigma_H:           0.001     0.001   0.2% |\n",
      "Interaction W_wk:          0.015     0.015   4.2% |-|\n",
      "Polarization P_wk:         0.052     0.052  15.0% |-----|\n",
      "Susceptibiltiy chi_wk:     0.006     0.006   1.9% ||\n",
      "Other:                     0.195     0.195  56.1% |---------------------|\n",
      "-------------------------------------------------\n",
      "Total:                               0.347 100.0%\n",
      "\n",
      "--> GWSolver.calc_real_space\n",
      "Hartree flag: True\n",
      "Fock flag: True\n",
      "Polarization check: Passed\n",
      "Screened Potential check: Passed\n",
      "Self-Energy check: Passed\n"
     ]
    }
   ],
   "source": [
    "compareFlags(hartree_flag = True, fock_flag = True, spin_flag = False)"
   ]
  },
  {
   "cell_type": "code",
   "execution_count": 10,
   "id": "d1d9da70-3399-4009-b28e-24b772565e24",
   "metadata": {},
   "outputs": [],
   "source": [
    "from time import perf_counter"
   ]
  },
  {
   "cell_type": "code",
   "execution_count": 11,
   "id": "82c2afa5-3934-4ac5-a796-35c630f46e7e",
   "metadata": {},
   "outputs": [
    {
     "name": "stdout",
     "output_type": "stream",
     "text": [
      "\n",
      "╔╦╗╦═╗╦╔═╗ ╔═╗  \n",
      " ║ ╠╦╝║║═╬╗╚═╗  \n",
      " ╩ ╩╚═╩╚═╝╚╚═╝  GW\n",
      "TRIQS: GW solver\n",
      "\n",
      "beta 100.0\n",
      "N_w  20480\n",
      "N_k      2\n",
      "\n",
      "--> GWSolver.solve_iter\n",
      "spinless False\n",
      " Hartree True\n",
      "    Fock True\n",
      "      GW True\n",
      "\n",
      "\n",
      "Timing:                    incl.     excl.\n",
      "-------------------------------------------------\n",
      "Density matrix rho_k:      0.010     0.010   0.3% |\n",
      "Density matrix rho_r:      0.023     0.002   0.0% |\n",
      " Density matrix rho_k:     0.021     0.021   0.6% |\n",
      "Dyson equation:            0.029     0.029   0.8% |\n",
      "Fock Sigma_F:              0.001     0.001   0.0% |\n",
      "GW Sigma_dyn:              0.777     0.777  21.7% |--------|\n",
      "Hartree Sigma_H:           0.001     0.001   0.0% |\n",
      "Interaction W_wk:          0.141     0.141   3.9% |-|\n",
      "Polarization P_wk:         0.628     0.628  17.6% |------|\n",
      "Susceptibiltiy chi_wk:     0.066     0.066   1.9% ||\n",
      "Other:                     1.899     1.899  53.1% |--------------------|\n",
      "-------------------------------------------------\n",
      "Total:                               3.576 100.0%\n",
      "\n",
      "--> GWSolver.calc_real_space\n"
     ]
    },
    {
     "name": "stderr",
     "output_type": "stream",
     "text": [
      "WARNING: Direct Fourier cannot deduce the high-frequency moments of G(tau) due to noise or a coarse tau-grid. \t  Please specify the high-frequency moments for higher accuracy.\n"
     ]
    }
   ],
   "source": [
    "beta = 100.0\n",
    "U = 1.5\n",
    "t = 1.0\n",
    "nw = 10 * 1024\n",
    "mu = 0.0\n",
    "\n",
    "hartree_flag = True\n",
    "fock_flag = True\n",
    "spin_flag = False\n",
    "\n",
    "hugo_start = perf_counter() \n",
    "\n",
    "hugo = GWHubbardDimer(\n",
    "    beta = beta, U = U, \n",
    "    t = t, nw = nw, maxiter = 1,\n",
    "    self_interaction = True, spinless = spin_flag,\n",
    "    hartree_flag = hartree_flag, fock_flag = fock_flag)\n",
    "hugo_stop = perf_counter() \n",
    "\n",
    "\n",
    "casper_start = perf_counter() \n",
    "casper = GWA(\n",
    "    beta = beta, U = U, \n",
    "    t = t, nw = nw, spinless = spin_flag, static_flag = False, \n",
    "    hartree_flag = hartree_flag, fock_flag = fock_flag)\n",
    "\n",
    "casper_stop = perf_counter() "
   ]
  },
  {
   "cell_type": "code",
   "execution_count": 12,
   "id": "fd29484f-6e7a-4474-ae10-87774196d260",
   "metadata": {},
   "outputs": [
    {
     "name": "stdout",
     "output_type": "stream",
     "text": [
      "5.340819362550974\n",
      "15.699410683475435\n"
     ]
    }
   ],
   "source": [
    "print(hugo_stop - hugo_start)\n",
    "print(casper_stop - casper_start)"
   ]
  }
 ],
 "metadata": {
  "kernelspec": {
   "display_name": "TCM triqs 3.2.x",
   "language": "python",
   "name": "tcm_triqs_3.2.x"
  },
  "language_info": {
   "codemirror_mode": {
    "name": "ipython",
    "version": 3
   },
   "file_extension": ".py",
   "mimetype": "text/x-python",
   "name": "python",
   "nbconvert_exporter": "python",
   "pygments_lexer": "ipython3",
   "version": "3.10.12"
  }
 },
 "nbformat": 4,
 "nbformat_minor": 5
}
