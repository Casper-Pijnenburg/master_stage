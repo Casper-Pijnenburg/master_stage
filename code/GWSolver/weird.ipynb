{
 "cells": [
  {
   "cell_type": "code",
   "execution_count": 1,
   "metadata": {},
   "outputs": [],
   "source": [
    "import numpy as np\n",
    "\n",
    "from triqs.gf import *"
   ]
  },
  {
   "cell_type": "code",
   "execution_count": 22,
   "metadata": {},
   "outputs": [],
   "source": [
    "class foo:\n",
    "    def __init__(self, bar1, bar2):\n",
    "        self.bar1 = bar1\n",
    "        self.bar2 = bar2\n",
    "\n",
    "        self.mesh = MeshImFreq(20, 'Boson', 1024)\n",
    "\n",
    "        V_shape = Gf(mesh = self.mesh, target_shape = [])\n",
    "        V_shape.data[:] = 0\n",
    "        # self.A = BlockGf(block_list = [V_shape] * 2, name_list = ['up', 'dn'], make_copies = False)\n",
    "        self.A = Gf(mesh = self.mesh, target_shape = [])\n",
    "\n",
    "        self.A.data[:] = self.bar1\n",
    "\n",
    "\n",
    "        print(\"BEFORE \\n\", self.A.data[0])\n",
    "        # self.B = BlockGf(block_list = [V_shape] * 2, name_list = ['up', 'dn'], make_copies = False)\n",
    "        self.B = Gf(mesh = self.mesh, target_shape = [])\n",
    "\n",
    "        self.B.data[:] = self.bar2\n",
    "        \n",
    "\n",
    "        print(\"AFTER \\n\", self.A.data[0])"
   ]
  },
  {
   "cell_type": "code",
   "execution_count": 21,
   "metadata": {},
   "outputs": [
    {
     "name": "stdout",
     "output_type": "stream",
     "text": [
      "BEFORE \n",
      " (1+0j)\n",
      "AFTER \n",
      " (1+0j)\n"
     ]
    },
    {
     "data": {
      "text/plain": [
       "<__main__.foo at 0x7f98bf5c2bf0>"
      ]
     },
     "execution_count": 21,
     "metadata": {},
     "output_type": "execute_result"
    }
   ],
   "source": [
    "foo(1, 2)"
   ]
  },
  {
   "cell_type": "code",
   "execution_count": null,
   "metadata": {},
   "outputs": [],
   "source": []
  }
 ],
 "metadata": {
  "kernelspec": {
   "display_name": "Python 3",
   "language": "python",
   "name": "python3"
  },
  "language_info": {
   "codemirror_mode": {
    "name": "ipython",
    "version": 3
   },
   "file_extension": ".py",
   "mimetype": "text/x-python",
   "name": "python",
   "nbconvert_exporter": "python",
   "pygments_lexer": "ipython3",
   "version": "3.10.12"
  }
 },
 "nbformat": 4,
 "nbformat_minor": 2
}
