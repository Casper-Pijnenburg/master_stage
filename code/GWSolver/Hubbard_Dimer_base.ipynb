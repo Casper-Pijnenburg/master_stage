{
 "cells": [
  {
   "cell_type": "code",
   "execution_count": 1,
   "id": "460561bb-7ec0-4b4f-98e5-e11b7b759209",
   "metadata": {},
   "outputs": [],
   "source": [
    "from triqs.gf import *\n",
    "from triqs.operators import *\n",
    "from triqs.operators.util.hamiltonians import h_int_kanamori, h_int_slater\n",
    "from triqs.operators.util import *\n",
    "from triqs.operators.util.hamiltonians import *\n",
    "\n",
    "from h5 import HDFArchive\n",
    "from triqs.atom_diag import *\n",
    "import numpy as np\n",
    "import sympy as sp\n",
    "from itertools import product\n",
    "import matplotlib.pylab as plt"
   ]
  },
  {
   "cell_type": "code",
   "execution_count": 2,
   "id": "471546c1-b051-4910-b294-90bd24d67dea",
   "metadata": {},
   "outputs": [
    {
     "name": "stderr",
     "output_type": "stream",
     "text": [
      "/usr/lib/python3.10/dist-packages/triqs/operators/util/hamiltonians.py:33: UserWarning: h_int_slater takes as a second argument the number of orbitals, not a list of orbital names\n",
      "  warnings.warn(\"{} takes as a second argument the number of orbitals, not a list of orbital names\".format(fname))\n"
     ]
    }
   ],
   "source": [
    "# Definition of a 3-orbital atom\n",
    "spin_names = ('up','dn')\n",
    "orb_names = [0,1]\n",
    "beta = 1000\n",
    "target_occ = 2\n",
    "U = 20\n",
    "t = 1.0\n",
    "mu = 10.0\n",
    "\n",
    "uijkl = np.zeros((2,2,2,2))\n",
    "uijkl[0,0,0,0] = U\n",
    "uijkl[1,1,1,1] = U\n",
    "\n",
    "tij = np.zeros((2,2))\n",
    "tij[0,1] = t\n",
    "tij[1,0] = t\n",
    "\n",
    "# Set of fundamental operators\n",
    "fops = [(sn,on) for sn, on in product(spin_names,orb_names)]\n",
    "\n",
    "# Numbers of particles with spin up/down\n",
    "N_up = n('up',0) + n('up',1)\n",
    "N_dn = n('dn',0) + n('dn',1)\n",
    "N = N_up + N_dn\n",
    "\n",
    "# Add chemical potential\n",
    "H = 0 * (N_up + N_dn)\n",
    "\n",
    "# Add Coulomb\n",
    "H += h_int_slater(spin_names, orb_names, uijkl, off_diag=True, complex=True)\n",
    "\n",
    "# Add single partcle terms\n",
    "for s, o1, o2 in product(spin_names, orb_names, orb_names):\n",
    "    H += 0.5*(        tij[int(o1),int(o2)]  * c_dag(s,o1) * c(s,o2) + \n",
    "              np.conj(tij[int(o1),int(o2)]) * c_dag(s,o2) * c(s,o1))"
   ]
  },
  {
   "cell_type": "code",
   "execution_count": 3,
   "id": "b4def383-99a2-45bf-92b1-2b3a1c97f4f0",
   "metadata": {},
   "outputs": [
    {
     "name": "stdout",
     "output_type": "stream",
     "text": [
      "mu: -1.0 filling: (1.9999999999999991+0j)\n"
     ]
    }
   ],
   "source": [
    "step = 0.5\n",
    "while True:\n",
    "\n",
    "    H += mu * N\n",
    "    ad = AtomDiagComplex(H, fops, n_min=target_occ-1, n_max=target_occ+1)\n",
    "\n",
    "    beta = 1e5\n",
    "    dm = atomic_density_matrix(ad, beta)\n",
    "    filling = trace_rho_op(dm, N, ad)\n",
    "\n",
    "    if abs(filling.real-target_occ) < 1.0e-4:\n",
    "        break\n",
    "    elif filling.real < target_occ:\n",
    "        H += -mu * N\n",
    "        mu+=-step\n",
    "    elif filling.real > target_occ:\n",
    "        H += -mu * N\n",
    "        mu+=step    \n",
    "    \n",
    "print(\"mu:\", mu, \"filling:\", filling)"
   ]
  },
  {
   "cell_type": "code",
   "execution_count": 5,
   "id": "17f141d5-1ed0-40c1-a535-0be2182aae47",
   "metadata": {},
   "outputs": [
    {
     "data": {
      "text/plain": [
       "[<matplotlib.lines.Line2D at 0x7fbd968aca00>]"
      ]
     },
     "execution_count": 5,
     "metadata": {},
     "output_type": "execute_result"
    },
    {
     "data": {
      "image/png": "[encoded data removed]",
      "text/plain": [
       "<Figure size 432x288 with 1 Axes>"
      ]
     },
     "metadata": {
      "needs_background": "light"
     },
     "output_type": "display_data"
    }
   ],
   "source": [
    "gf_struct = [('dn', len(orb_names)),\n",
    "             ('up', len(orb_names))]\n",
    "\n",
    "G_w = atomic_g_w(ad, beta, gf_struct, (-7, 5), 400, 0.1)\n",
    "\n",
    "f = np.array(list(G_w['up'].mesh.values()))\n",
    "plt.figure(1)\n",
    "plt.clf()\n",
    "plt.grid(True)\n",
    "plt.plot(f, -np.imag(np.trace(G_w['up'].data[:,:,:], axis1=1, axis2=2))+\n",
    "            -np.imag(np.trace(G_w['dn'].data[:,:,:], axis1=1, axis2=2)) ) "
   ]
  },
  {
   "cell_type": "code",
   "execution_count": null,
   "id": "acc014cf-3a75-41fb-abbf-7efa03be6b3e",
   "metadata": {},
   "outputs": [],
   "source": []
  }
 ],
 "metadata": {
  "kernelspec": {
   "display_name": "Python 3 (ipykernel)",
   "language": "python",
   "name": "python3"
  },
  "language_info": {
   "codemirror_mode": {
    "name": "ipython",
    "version": 3
   },
   "file_extension": ".py",
   "mimetype": "text/x-python",
   "name": "python",
   "nbconvert_exporter": "python",
   "pygments_lexer": "ipython3",
   "version": "3.10.12"
  }
 },
 "nbformat": 4,
 "nbformat_minor": 5
}
