{
 "cells": [
  {
   "cell_type": "code",
   "execution_count": 1,
   "metadata": {},
   "outputs": [],
   "source": [
    "import numpy as np\n",
    "from triqs.gf import *\n",
    "from triqs.gf.meshes import MeshDLRImFreq, MeshDLRImTime\n",
    "import numpy as np\n",
    "import matplotlib.pylab as plt\n",
    "import time\n",
    "\n",
    "\n",
    "from triqs_tprf.lattice import iw_to_tau\n",
    "from triqs_tprf.lattice import iw_to_tau_p\n",
    "from triqs_tprf.lattice import iw_to_tau_p2\n",
    "from triqs_tprf.lattice import tau_to_iw\n",
    "from triqs_tprf.lattice import tau_to_iw_p\n",
    "from triqs_tprf.lattice import inv"
   ]
  },
  {
   "cell_type": "code",
   "execution_count": 10,
   "metadata": {},
   "outputs": [],
   "source": [
    "def get_cpu_info():\n",
    "    cpu_info = {}\n",
    "    with open('/proc/cpuinfo', 'r') as cpuinfo:\n",
    "        for line in cpuinfo:\n",
    "            if line.strip():\n",
    "                key, value = line.strip().split(':')\n",
    "                cpu_info[key.strip()] = value.strip()\n",
    "    return cpu_info\n",
    "\n",
    "def get_threads_per_core():\n",
    "    cpu_info = get_cpu_info()\n",
    "    siblings = int(cpu_info.get('siblings', 1))\n",
    "    cores = int(cpu_info.get('cpu cores', 1))\n",
    "    threads_per_core = siblings // cores\n",
    "    return threads_per_core\n",
    "\n",
    "\n",
    "def generate_G(tij, mesh, spin_names = ['up', 'dn']):\n",
    "    g_inv = Gf(mesh = mesh, target_shape = np.shape(tij))\n",
    "    g_inv << iOmega_n - tij.transpose()\n",
    "    g = inv(g_inv, 8)\n",
    "    return BlockGf(block_list = [g] * 2, name_list = spin_names, make_copies = False)\n",
    "\n",
    "\n",
    "orbitals = 200\n",
    "t = 1.0\n",
    "tij = np.zeros([orbitals] * 2)\n",
    "for i in range(orbitals - 1):\n",
    "    tij[i, i + 1] = -t\n",
    "    tij[i + 1, i] = -t\n",
    "\n",
    "\n",
    "iw_mesh = MeshDLRImFreq(beta = 100, statistic = 'Fermion', w_max = 20.0, eps = 1e-12, symmetrize = True)\n",
    "G_iw = generate_G(tij, iw_mesh)\n"
   ]
  },
  {
   "cell_type": "code",
   "execution_count": 3,
   "metadata": {},
   "outputs": [
    {
     "name": "stdout",
     "output_type": "stream",
     "text": [
      "3.1455929369999467\n"
     ]
    }
   ],
   "source": [
    "# start = time.perf_counter()\n",
    "# G_tau1 = iw_to_tau(G_iw)\n",
    "# print(time.perf_counter() - start)"
   ]
  },
  {
   "cell_type": "code",
   "execution_count": 11,
   "metadata": {},
   "outputs": [
    {
     "name": "stdout",
     "output_type": "stream",
     "text": [
      "0.26807332000021233\n"
     ]
    }
   ],
   "source": [
    "start = time.perf_counter()\n",
    "G_tau2 = iw_to_tau_p(G_iw, 8)\n",
    "print(time.perf_counter() - start)"
   ]
  },
  {
   "cell_type": "code",
   "execution_count": 12,
   "metadata": {},
   "outputs": [
    {
     "name": "stdout",
     "output_type": "stream",
     "text": [
      "0.3644470070000807\n"
     ]
    }
   ],
   "source": [
    "start = time.perf_counter()\n",
    "G_tau3 = iw_to_tau_p2(G_iw, 8)\n",
    "print(time.perf_counter() - start)"
   ]
  },
  {
   "cell_type": "code",
   "execution_count": 6,
   "metadata": {},
   "outputs": [],
   "source": [
    "# np.testing.assert_allclose(G_tau1['up'].data, G_tau2['up'].data)\n",
    "# np.testing.assert_allclose(G_tau1['dn'].data, G_tau2['dn'].data)\n",
    "# np.testing.assert_allclose(G_tau1['dn'].data, G_tau3['dn'].data)"
   ]
  },
  {
   "cell_type": "code",
   "execution_count": null,
   "metadata": {},
   "outputs": [],
   "source": []
  }
 ],
 "metadata": {
  "kernelspec": {
   "display_name": "Python 3",
   "language": "python",
   "name": "python3"
  },
  "language_info": {
   "codemirror_mode": {
    "name": "ipython",
    "version": 3
   },
   "file_extension": ".py",
   "mimetype": "text/x-python",
   "name": "python",
   "nbconvert_exporter": "python",
   "pygments_lexer": "ipython3",
   "version": "3.10.12"
  }
 },
 "nbformat": 4,
 "nbformat_minor": 2
}
